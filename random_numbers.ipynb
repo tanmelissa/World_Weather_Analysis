{
 "cells": [
  {
   "cell_type": "code",
   "execution_count": 1,
   "id": "f560f621",
   "metadata": {},
   "outputs": [],
   "source": [
    "#Import the random module\n",
    "import random"
   ]
  },
  {
   "cell_type": "code",
   "execution_count": 2,
   "id": "defde353",
   "metadata": {},
   "outputs": [
    {
     "data": {
      "text/plain": [
       "-49"
      ]
     },
     "execution_count": 2,
     "metadata": {},
     "output_type": "execute_result"
    }
   ],
   "source": [
    "random.randint(-90,90)"
   ]
  },
  {
   "cell_type": "code",
   "execution_count": 3,
   "id": "663f451d",
   "metadata": {},
   "outputs": [
    {
     "data": {
      "text/plain": [
       "0.959412017002815"
      ]
     },
     "execution_count": 3,
     "metadata": {},
     "output_type": "execute_result"
    }
   ],
   "source": [
    "random.random()"
   ]
  },
  {
   "cell_type": "code",
   "execution_count": 4,
   "id": "a8195747",
   "metadata": {},
   "outputs": [
    {
     "data": {
      "text/plain": [
       "-24.834057511202506"
      ]
     },
     "execution_count": 4,
     "metadata": {},
     "output_type": "execute_result"
    }
   ],
   "source": [
    "random_number = random.randint(-90, 89) + random.random()\n",
    "random_number"
   ]
  },
  {
   "cell_type": "code",
   "execution_count": 6,
   "id": "70625148",
   "metadata": {},
   "outputs": [
    {
     "data": {
      "text/plain": [
       "[-22.401354790754645,\n",
       " -22.68321490572622,\n",
       " 87.60624418615723,\n",
       " -74.80768367115941,\n",
       " -43.26372799395771,\n",
       " -50.56924682954235,\n",
       " -56.36712851997995,\n",
       " 88.5565687330509,\n",
       " 37.28995919621712,\n",
       " 14.219838147550648]"
      ]
     },
     "execution_count": 6,
     "metadata": {},
     "output_type": "execute_result"
    }
   ],
   "source": [
    "x = 1\n",
    "latitudes = []\n",
    "while x < 11:\n",
    "    random_lat = random.randint(-90, 89) + random.random()\n",
    "    latitudes.append(random_lat)\n",
    "    x += 1\n",
    "latitudes"
   ]
  },
  {
   "cell_type": "code",
   "execution_count": 9,
   "id": "b7f2a284",
   "metadata": {},
   "outputs": [
    {
     "data": {
      "text/plain": [
       "46"
      ]
     },
     "execution_count": 9,
     "metadata": {},
     "output_type": "execute_result"
    }
   ],
   "source": [
    "random.randrange(-90, 90, step=1)"
   ]
  },
  {
   "cell_type": "code",
   "execution_count": 10,
   "id": "13a464cb",
   "metadata": {},
   "outputs": [],
   "source": [
    "#import NumPy\n",
    "import numpy as np"
   ]
  },
  {
   "cell_type": "code",
   "execution_count": 12,
   "id": "091513a1",
   "metadata": {},
   "outputs": [
    {
     "data": {
      "text/plain": [
       "array([  5.18468212,  14.20859085, -41.89922056, -80.35738022,\n",
       "       -74.38108787, -52.80436831,  -7.20270503,  59.72463979,\n",
       "        40.08234782,   2.11166677, -79.90249172,  61.44046951,\n",
       "       -73.3425002 , -84.22429813,  12.50969008, -35.31765471,\n",
       "         8.51727527,  85.75570496, -43.24744297, -78.19807624,\n",
       "        78.70945762,   8.77686737, -30.0632571 , -18.55040718,\n",
       "        85.23097838,  26.38927149,  61.478946  , -28.26916835,\n",
       "       -17.06459727, -72.84617745, -14.65502674, -39.43381684,\n",
       "       -16.18159559,  87.12252204,  85.24756532,  89.17222481,\n",
       "       -60.06467248, -19.96074313, -81.90496003,  82.38579343,\n",
       "        40.73028326,  38.00783831, -69.65541821,   5.83942474,\n",
       "       -70.48055201,  16.31530164,  45.86882625,  24.16638917,\n",
       "        23.21367959, -32.69719191])"
      ]
     },
     "execution_count": 12,
     "metadata": {},
     "output_type": "execute_result"
    }
   ],
   "source": [
    "np.random.uniform(-90.000, 90.000, size = 50)"
   ]
  },
  {
   "cell_type": "code",
   "execution_count": 13,
   "id": "fdd1cc55",
   "metadata": {},
   "outputs": [],
   "source": [
    "#import timeit\n",
    "import timeit\n"
   ]
  },
  {
   "cell_type": "code",
   "execution_count": 15,
   "id": "c878fdd4",
   "metadata": {},
   "outputs": [
    {
     "name": "stdout",
     "output_type": "stream",
     "text": [
      "14.2 µs ± 452 ns per loop (mean ± std. dev. of 7 runs, 100000 loops each)\n"
     ]
    }
   ],
   "source": [
    "%timeit np.random.uniform(-90.000, 90.000, size=1500)"
   ]
  },
  {
   "cell_type": "code",
   "execution_count": 16,
   "id": "85680863",
   "metadata": {},
   "outputs": [
    {
     "name": "stdout",
     "output_type": "stream",
     "text": [
      "1.64 ms ± 72.2 µs per loop (mean ± std. dev. of 7 runs, 1000 loops each)\n"
     ]
    }
   ],
   "source": [
    "def latitudes(size):\n",
    "    latitudes = []\n",
    "    x = 0\n",
    "    while x < (size):\n",
    "        random_lat = random.randint(-90, 90) + random.random()\n",
    "        latitudes.append(random_lat)\n",
    "        x += 1\n",
    "    return latitudes\n",
    "# Call the function with 1500.\n",
    "%timeit latitudes(1500)"
   ]
  },
  {
   "cell_type": "code",
   "execution_count": 18,
   "id": "1f4b3007",
   "metadata": {},
   "outputs": [
    {
     "name": "stdout",
     "output_type": "stream",
     "text": [
      "485 µs ± 30.6 µs per loop (mean ± std. dev. of 7 runs, 1000 loops each)\n"
     ]
    }
   ],
   "source": [
    "def latitudes(size):\n",
    "        latitudes = []\n",
    "        x = 0\n",
    "        while x < (size):\n",
    "            random_lat = random.uniform(-90, 90)\n",
    "            latitudes.append(random_lat)\n",
    "            x += 1\n",
    "        return latitudes\n",
    "%timeit latitudes(1500)"
   ]
  },
  {
   "cell_type": "code",
   "execution_count": null,
   "id": "fcc1422f",
   "metadata": {},
   "outputs": [],
   "source": []
  }
 ],
 "metadata": {
  "kernelspec": {
   "display_name": "PythonData",
   "language": "python",
   "name": "pythondata"
  },
  "language_info": {
   "codemirror_mode": {
    "name": "ipython",
    "version": 3
   },
   "file_extension": ".py",
   "mimetype": "text/x-python",
   "name": "python",
   "nbconvert_exporter": "python",
   "pygments_lexer": "ipython3",
   "version": "3.7.13"
  }
 },
 "nbformat": 4,
 "nbformat_minor": 5
}
